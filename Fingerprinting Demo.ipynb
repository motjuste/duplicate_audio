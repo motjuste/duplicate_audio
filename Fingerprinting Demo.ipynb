{
 "cells": [
  {
   "cell_type": "code",
   "execution_count": 1,
   "metadata": {
    "collapsed": true
   },
   "outputs": [],
   "source": [
    "import numpy as np\n",
    "import glob\n",
    "import pickle"
   ]
  },
  {
   "cell_type": "code",
   "execution_count": 2,
   "metadata": {
    "collapsed": false
   },
   "outputs": [],
   "source": [
    "import duplicate_audio.wavBasicRead as wbr\n",
    "from duplicate_audio.fingerprinting import fingerprint, add_to_fingerprints\n",
    "from duplicate_audio.searching import search_1channel_in_dictdb"
   ]
  },
  {
   "cell_type": "code",
   "execution_count": null,
   "metadata": {
    "collapsed": true
   },
   "outputs": [],
   "source": [
    "# If f_db exists, then load\n",
    "# this will take time\n",
    "f_db_dump_fp = \"./data/fingerprints_db.dump\"\n",
    "f_db = pickle.load(open(f_db_dump_fp, 'rb'))"
   ]
  },
  {
   "cell_type": "markdown",
   "metadata": {},
   "source": [
    "### Creating Fingerprint database"
   ]
  },
  {
   "cell_type": "code",
   "execution_count": 3,
   "metadata": {
    "collapsed": false
   },
   "outputs": [
    {
     "data": {
      "text/plain": [
       "30"
      ]
     },
     "execution_count": 3,
     "metadata": {},
     "output_type": "execute_result"
    }
   ],
   "source": [
    "wav_paths = glob.glob(\"./resources/Drum-Breaks-Collection/*.wav\")\n",
    "len(wav_paths)"
   ]
  },
  {
   "cell_type": "code",
   "execution_count": 4,
   "metadata": {
    "collapsed": false
   },
   "outputs": [
    {
     "name": "stderr",
     "output_type": "stream",
     "text": [
      "//anaconda/lib/python3.4/site-packages/scipy/io/wavfile.py:42: WavFileWarning: Unknown wave file format\n",
      "  warnings.warn(\"Unknown wave file format\", WavFileWarning)\n",
      "//anaconda/lib/python3.4/site-packages/scipy/io/wavfile.py:179: WavFileWarning: Chunk (non-data) not understood, skipping it.\n",
      "  WavFileWarning)\n"
     ]
    }
   ],
   "source": [
    "wav_dict_list = wbr.read_list_wav(wav_paths)"
   ]
  },
  {
   "cell_type": "code",
   "execution_count": 5,
   "metadata": {
    "collapsed": true
   },
   "outputs": [],
   "source": [
    "# generate the fingerprints for song_id=0\n",
    "\n",
    "# NOTE: do not run if db already exists\n",
    "\n",
    "# f_db = fingerprint(wav_dict_list[0][\"data\"], wav_dict_list[0][\"sampling_frequency\"], 0)"
   ]
  },
  {
   "cell_type": "code",
   "execution_count": 6,
   "metadata": {
    "collapsed": false
   },
   "outputs": [],
   "source": [
    "for i in range(1, len(wav_dict_list)):\n",
    "    f_db = add_to_fingerprints(wav_dict_list[i][\"data\"], \n",
    "                               wav_dict_list[i][\"sampling_frequency\"], \n",
    "                               f_db, i)"
   ]
  },
  {
   "cell_type": "code",
   "execution_count": 7,
   "metadata": {
    "collapsed": false
   },
   "outputs": [],
   "source": [
    "# NOTE:: CHANGE THE last_song_id if new songs are added to a loaded f_db\n",
    "# This will take time\n",
    "\n",
    "# f_db_dump_fp = \"./data/fingerprints_db.dump\"\n",
    "# pickle.dump({\"db\": f_db, \"last_song_id\": len(wav_dict_list)}, open(f_db_dump_fp, 'wb'))"
   ]
  },
  {
   "cell_type": "markdown",
   "metadata": {},
   "source": [
    "### Searching"
   ]
  },
  {
   "cell_type": "code",
   "execution_count": 8,
   "metadata": {
    "collapsed": false
   },
   "outputs": [
    {
     "data": {
      "text/plain": [
       "289485"
      ]
     },
     "execution_count": 8,
     "metadata": {},
     "output_type": "execute_result"
    }
   ],
   "source": [
    "len(f_db.keys())"
   ]
  },
  {
   "cell_type": "code",
   "execution_count": 37,
   "metadata": {
    "collapsed": false
   },
   "outputs": [
    {
     "data": {
      "text/plain": [
       "(356564, 2)"
      ]
     },
     "execution_count": 37,
     "metadata": {},
     "output_type": "execute_result"
    }
   ],
   "source": [
    "WAV_TEST_FILES = [\"./resources/Drum-Breaks-Collection/30-drum-break-146-bpm.wav\", \n",
    "                  \"./resources/Drum-Breaks-Collection/3-drum-break-102-bpm.wav\",\n",
    "                  \"./resources/VID_20151119_012841.wav\",  # 30\n",
    "                  \"./resources/VID_20151119_014554 (online-audio-converter.com).wav\",  # 19\n",
    "                  \"./resources/VID_20151119_015502 (online-audio-converter.com).wav\"  #30\n",
    "                  ]\n",
    "WAV_FILE_PATH = WAV_TEST_FILES[-1]\n",
    "\n",
    "wav_dict = wbr.read_single_wav(WAV_FILE_PATH)\n",
    "wav_dict[\"data\"].shape"
   ]
  },
  {
   "cell_type": "code",
   "execution_count": 21,
   "metadata": {
    "collapsed": false
   },
   "outputs": [
    {
     "name": "stdout",
     "output_type": "stream",
     "text": [
      "79380 57330\n"
     ]
    },
    {
     "data": {
      "text/plain": [
       "0.5000226757369615"
      ]
     },
     "execution_count": 21,
     "metadata": {},
     "output_type": "execute_result"
    }
   ],
   "source": [
    "# make a dummy query\n",
    "\n",
    "t21 = 0.5  # seconds\n",
    "t1 = 1.3\n",
    "t2 = t1 + t21\n",
    "channel = 0\n",
    "\n",
    "query_fs = wav_dict[\"sampling_frequency\"]\n",
    "t1_, t2_ = round(t1*query_fs), round(t2*query_fs)\n",
    "print(t2_, t1_)\n",
    "query_data = wav_dict[\"data\"][t1_:t2_+1, channel]\n",
    "\n",
    "\n",
    "\n",
    "# query_data = query_data + np.random.normal(0, 1,\n",
    "#                               query_data.size)\n",
    "\n",
    "# query_data = query_data + \\\n",
    "#     np.random.normal(np.mean(wav_dict[\"data\"][:, channel]),\n",
    "#                      np.std(wav_dict[\"data\"][:, channel]),\n",
    "#                      query_data.size)\n",
    "\n",
    "\n",
    "query_data.shape[0]/query_fs"
   ]
  },
  {
   "cell_type": "code",
   "execution_count": 38,
   "metadata": {
    "collapsed": false
   },
   "outputs": [
    {
     "data": {
      "text/plain": [
       "8.085351473922902"
      ]
     },
     "execution_count": 38,
     "metadata": {},
     "output_type": "execute_result"
    }
   ],
   "source": [
    "query_data = wav_dict[\"data\"][:, 1]\n",
    "query_fs = wav_dict[\"sampling_frequency\"]\n",
    "\n",
    "query_data.shape[0]/query_fs"
   ]
  },
  {
   "cell_type": "code",
   "execution_count": 39,
   "metadata": {
    "collapsed": false
   },
   "outputs": [
    {
     "name": "stdout",
     "output_type": "stream",
     "text": [
      "Identified channel 1 of song at path: \n",
      "/Users/myrmidon/Delve/studies-mi/mmar/duplicate_audio/resources/Drum-Breaks-Collection/30-drum-break-146-bpm.wav\n",
      "\n",
      "Best timestamp at -3.58 seconds, with 1662 votes\n"
     ]
    }
   ],
   "source": [
    "votes, song, channel, t = \\\n",
    "    search_1channel_in_dictdb(query_data, query_fs, f_db)\n",
    "\n",
    "print(\"Identified channel %d of song at path: \\n%s\\n\"\n",
    "      %(channel, wav_dict_list[song][\"abs_file_path\"]))\n",
    "print(\"Best timestamp at %5.2f seconds, with %d votes\"\n",
    "      %(t, votes))"
   ]
  },
  {
   "cell_type": "code",
   "execution_count": null,
   "metadata": {
    "collapsed": true
   },
   "outputs": [],
   "source": []
  }
 ],
 "metadata": {
  "kernelspec": {
   "display_name": "Python 3",
   "language": "python",
   "name": "python3"
  },
  "language_info": {
   "codemirror_mode": {
    "name": "ipython",
    "version": 3
   },
   "file_extension": ".py",
   "mimetype": "text/x-python",
   "name": "python",
   "nbconvert_exporter": "python",
   "pygments_lexer": "ipython3",
   "version": "3.4.3"
  }
 },
 "nbformat": 4,
 "nbformat_minor": 0
}

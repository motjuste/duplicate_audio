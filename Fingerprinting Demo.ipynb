{
 "cells": [
  {
   "cell_type": "code",
   "execution_count": 83,
   "metadata": {
    "collapsed": true
   },
   "outputs": [],
   "source": [
    "import duplicate_audio.wavBasicRead as wbr\n",
    "from duplicate_audio.fingerprinting import fingerprint\n",
    "from duplicate_audio.searching import search_1channel_in_dictdb"
   ]
  },
  {
   "cell_type": "code",
   "execution_count": 84,
   "metadata": {
    "collapsed": true
   },
   "outputs": [],
   "source": [
    "WAV_FILE_PATH = \"./resources/4-free-drum-loops-127-bpm/02-drum-loop-127-bpm.wav\"\n",
    "wav_dict = wbr.read_single_wav(WAV_FILE_PATH)"
   ]
  },
  {
   "cell_type": "code",
   "execution_count": 86,
   "metadata": {
    "collapsed": false
   },
   "outputs": [
    {
     "data": {
      "text/plain": [
       "147377"
      ]
     },
     "execution_count": 86,
     "metadata": {},
     "output_type": "execute_result"
    }
   ],
   "source": [
    "# generate db of fingerprints\n",
    "\n",
    "f = fingerprint(wav_dict[\"data\"], wav_dict[\"sampling_frequency\"], 0)\n",
    "len(f.keys())"
   ]
  },
  {
   "cell_type": "code",
   "execution_count": 87,
   "metadata": {
    "collapsed": false
   },
   "outputs": [
    {
     "name": "stdout",
     "output_type": "stream",
     "text": [
      "26460 4410\n"
     ]
    },
    {
     "data": {
      "text/plain": [
       "0.5000226757369615"
      ]
     },
     "execution_count": 87,
     "metadata": {},
     "output_type": "execute_result"
    }
   ],
   "source": [
    "# make a dummy query\n",
    "\n",
    "t21 = 0.5  # seconds\n",
    "t1 = 0.1\n",
    "t2 = t1 + t21\n",
    "\n",
    "query_fs = wav_dict[\"sampling_frequency\"]\n",
    "t1_, t2_ = round(t1*query_fs), round(t2*query_fs)\n",
    "print(t2_, t1_)\n",
    "query_data = wav_dict[\"data\"][t1_:t2_+1, 0]\n",
    "# query_data = query_data + np.random.normal(0, 1,\n",
    "#                               query_data.size)\n",
    "query_data.shape[0]/query_fs"
   ]
  },
  {
   "cell_type": "code",
   "execution_count": 92,
   "metadata": {
    "collapsed": false
   },
   "outputs": [
    {
     "name": "stdout",
     "output_type": "stream",
     "text": [
      "Identified channel 0 of song at path: \n",
      "/Users/myrmidon/Delve/studies-mi/mmar/duplicate_audio/resources/4-free-drum-loops-127-bpm/02-drum-loop-127-bpm.wav\n",
      "\n",
      "Best timestamp at  0.10 seconds, with 388 votes\n"
     ]
    }
   ],
   "source": [
    "votes, song, channel, t = search_1channel_in_dictdb(query_data, query_fs, f)\n",
    "\n",
    "print(\"Identified channel %d of song at path: \\n%s\\n\"%(channel, wav_dict[\"abs_file_path\"]))\n",
    "print(\"Best timestamp at %5.2f seconds, with %d votes\"%(t, votes))"
   ]
  },
  {
   "cell_type": "code",
   "execution_count": null,
   "metadata": {
    "collapsed": true
   },
   "outputs": [],
   "source": []
  }
 ],
 "metadata": {
  "kernelspec": {
   "display_name": "Python 3",
   "language": "python",
   "name": "python3"
  },
  "language_info": {
   "codemirror_mode": {
    "name": "ipython",
    "version": 3
   },
   "file_extension": ".py",
   "mimetype": "text/x-python",
   "name": "python",
   "nbconvert_exporter": "python",
   "pygments_lexer": "ipython3",
   "version": "3.4.3"
  }
 },
 "nbformat": 4,
 "nbformat_minor": 0
}

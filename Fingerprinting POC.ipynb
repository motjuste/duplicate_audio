{
 "cells": [
  {
   "cell_type": "code",
   "execution_count": 1,
   "metadata": {
    "collapsed": false
   },
   "outputs": [],
   "source": [
    "from scipy import signal\n",
    "from skimage.feature import peak_local_max\n",
    "import numpy as np"
   ]
  },
  {
   "cell_type": "code",
   "execution_count": 2,
   "metadata": {
    "collapsed": true
   },
   "outputs": [],
   "source": [
    "from bokeh.plotting import figure, show, output_notebook, gridplot\n",
    "from bokeh.palettes import Blues9, Reds3"
   ]
  },
  {
   "cell_type": "code",
   "execution_count": 3,
   "metadata": {
    "collapsed": true
   },
   "outputs": [],
   "source": [
    "import matplotlib.pyplot as plt\n",
    "%matplotlib inline"
   ]
  },
  {
   "cell_type": "code",
   "execution_count": 4,
   "metadata": {
    "collapsed": true
   },
   "outputs": [],
   "source": [
    "import duplicate_audio.wavBasicRead as wbr"
   ]
  },
  {
   "cell_type": "code",
   "execution_count": 5,
   "metadata": {
    "collapsed": true
   },
   "outputs": [],
   "source": [
    "# WAV_FILE_PATH = \"./resources/4-free-drum-loops-127-bpm/01-drum-loop-127-bpm.wav\"\n",
    "WAV_FILE_PATH = \"./resources/4-free-drum-loops-127-bpm/02-drum-loop-127-bpm.wav\""
   ]
  },
  {
   "cell_type": "markdown",
   "metadata": {},
   "source": [
    "## Read a wav file into a numpy array"
   ]
  },
  {
   "cell_type": "code",
   "execution_count": 6,
   "metadata": {
    "collapsed": false
   },
   "outputs": [
    {
     "data": {
      "text/plain": [
       "{'abs_file_path': '/Users/myrmidon/Delve/studies-mi/mmar/duplicate_audio/resources/4-free-drum-loops-127-bpm/02-drum-loop-127-bpm.wav',\n",
       " 'data': array([[  0,   0],\n",
       "        [  0,   0],\n",
       "        [  0,   0],\n",
       "        ..., \n",
       "        [299, 253],\n",
       "        [381, 415],\n",
       "        [  0,   0]], dtype=int16),\n",
       " 'sampling_frequency': 44100}"
      ]
     },
     "execution_count": 6,
     "metadata": {},
     "output_type": "execute_result"
    }
   ],
   "source": [
    "wav_dict = wbr.read_single_wav(WAV_FILE_PATH)\n",
    "wav_dict"
   ]
  },
  {
   "cell_type": "code",
   "execution_count": 7,
   "metadata": {
    "collapsed": false
   },
   "outputs": [
    {
     "data": {
      "text/plain": [
       "{'abs_file_path': '/Users/myrmidon/Delve/studies-mi/mmar/duplicate_audio/resources/4-free-drum-loops-127-bpm/02-drum-loop-127-bpm.wav',\n",
       " 'data': array([[  0,   0],\n",
       "        [  0,   0],\n",
       "        [  0,   0],\n",
       "        ..., \n",
       "        [299, 253],\n",
       "        [381, 415],\n",
       "        [  0,   0]], dtype=int16),\n",
       " 'n_channels': 2,\n",
       " 'n_samples': 166678,\n",
       " 'sampling_frequency': 44100}"
      ]
     },
     "execution_count": 7,
     "metadata": {},
     "output_type": "execute_result"
    }
   ],
   "source": [
    "wav_dict[\"n_samples\"], wav_dict[\"n_channels\"] = wav_dict[\"data\"].shape\n",
    "wav_dict"
   ]
  },
  {
   "cell_type": "markdown",
   "metadata": {},
   "source": [
    "### Plotting the amplitude"
   ]
  },
  {
   "cell_type": "code",
   "execution_count": null,
   "metadata": {
    "collapsed": false
   },
   "outputs": [],
   "source": [
    "# x = np.arange(2001)\n",
    "# y = [wav_dict[\"data\"][0::wav_dict[\"n_samples\"]//2000, c] for c in range(wav_dict[\"n_channels\"])]"
   ]
  },
  {
   "cell_type": "code",
   "execution_count": null,
   "metadata": {
    "collapsed": false
   },
   "outputs": [],
   "source": [
    "# output_notebook()"
   ]
  },
  {
   "cell_type": "code",
   "execution_count": null,
   "metadata": {
    "collapsed": false
   },
   "outputs": [],
   "source": [
    "# pp = []\n",
    "# for i, yy in enumerate(y):\n",
    "#     p = figure(title=(\"Channel :%d\")%i, width=250, height=250)\n",
    "#     p.line(x, yy)\n",
    "#     pp.append(p)\n",
    "\n",
    "# ppp = gridplot([pp])\n",
    "# show(ppp)"
   ]
  },
  {
   "cell_type": "markdown",
   "metadata": {
    "collapsed": true
   },
   "source": [
    "## Spectogram\n",
    "\n",
    "For now, let's stick to the first channel"
   ]
  },
  {
   "cell_type": "code",
   "execution_count": null,
   "metadata": {
    "collapsed": true
   },
   "outputs": [],
   "source": [
    "[spec_f, spec_t, spec] = signal.spectrogram(wav_dict[\"data\"][:, 0],\n",
    "                                           fs=wav_dict[\"sampling_frequency\"],\n",
    "                                           scaling='spectrum')"
   ]
  },
  {
   "cell_type": "code",
   "execution_count": null,
   "metadata": {
    "collapsed": false
   },
   "outputs": [],
   "source": [
    "plt.plot(spec_t)"
   ]
  },
  {
   "cell_type": "code",
   "execution_count": null,
   "metadata": {
    "collapsed": false
   },
   "outputs": [],
   "source": [
    "# output_notebook()\n",
    "\n",
    "# im_data = np.log(spec[:, 0:5000])\n",
    "# s = figure(title=\"Spectogram\", x_range=(0, im_data.shape[1]), y_range=(0, im_data.shape[0]), webgl=True)\n",
    "# s.image(image=[im_data], x=[0], y=[0], dw=[im_data.shape[1]], dh=[im_data.shape[0]], palette=Blues9 )\n",
    "\n",
    "# show(s)"
   ]
  },
  {
   "cell_type": "markdown",
   "metadata": {},
   "source": [
    "## Find local maxima"
   ]
  },
  {
   "cell_type": "code",
   "execution_count": null,
   "metadata": {
    "collapsed": true
   },
   "outputs": [],
   "source": [
    "local_max = peak_local_max(spec, min_distance=2, exclude_border=False, threshold_rel=0)"
   ]
  },
  {
   "cell_type": "code",
   "execution_count": null,
   "metadata": {
    "collapsed": false
   },
   "outputs": [],
   "source": [
    "c = 10\n",
    "for (x, y) in local_max:\n",
    "    if c > 0:\n",
    "        print(x, y)\n",
    "        c -= 1\n",
    "    else:\n",
    "        break"
   ]
  },
  {
   "cell_type": "markdown",
   "metadata": {},
   "source": [
    "## Define Target Zone"
   ]
  },
  {
   "cell_type": "code",
   "execution_count": null,
   "metadata": {
    "collapsed": true
   },
   "outputs": [],
   "source": [
    "TGT_HEIGHT_Minus, TGT_HEIGHT_Plus, TGT_WIDTH, TGT_DISP = [-25, 25, 25, 50]"
   ]
  },
  {
   "cell_type": "code",
   "execution_count": null,
   "metadata": {
    "collapsed": false
   },
   "outputs": [],
   "source": [
    "padding = max([TGT_DISP + TGT_WIDTH, - TGT_HEIGHT_Minus, TGT_HEIGHT_Plus])\n",
    "print(padding)"
   ]
  },
  {
   "cell_type": "code",
   "execution_count": null,
   "metadata": {
    "collapsed": false
   },
   "outputs": [],
   "source": [
    "lomx = np.zeros(spec.shape)\n",
    "lomx[local_max[:, 0], local_max[:, 1]] = 1\n",
    "lomx.shape"
   ]
  },
  {
   "cell_type": "code",
   "execution_count": null,
   "metadata": {
    "collapsed": false
   },
   "outputs": [],
   "source": [
    "plt.imshow(lomx*255, cmap=plt.cm.gray)"
   ]
  },
  {
   "cell_type": "code",
   "execution_count": null,
   "metadata": {
    "collapsed": false
   },
   "outputs": [],
   "source": [
    "plt.plot(np.sum(lomx, axis=1))"
   ]
  },
  {
   "cell_type": "code",
   "execution_count": null,
   "metadata": {
    "collapsed": false
   },
   "outputs": [],
   "source": [
    "plt.plot(np.sum(lomx, axis=0))"
   ]
  },
  {
   "cell_type": "code",
   "execution_count": null,
   "metadata": {
    "collapsed": false
   },
   "outputs": [],
   "source": [
    "lomx.shape"
   ]
  },
  {
   "cell_type": "code",
   "execution_count": null,
   "metadata": {
    "collapsed": false
   },
   "outputs": [],
   "source": [
    "x = np.zeros((2, 3))\n",
    "x[1, 1] = 1\n",
    "x[1, 0] = 1\n",
    "x[0, 0] = 1\n",
    "a = np.nonzero(x)\n",
    "print(a)\n",
    "print()\n",
    "at = np.transpose(np.nonzero(x))\n",
    "print(at)\n",
    "print()\n",
    "# for (y, x) in a:\n",
    "#     print(\"y:\", y, \"x:\", x)\n",
    "# print()\n",
    "# for (x, y) in at:\n",
    "#     print(\"y:\", y, \"x:\", x)\n",
    "\n",
    "def fu(y, x):\n",
    "    print(y, x)\n",
    "    \n",
    "vfu = np.vectorize(fu)\n",
    "vfu(at[:, 0], at[:, 1])"
   ]
  },
  {
   "cell_type": "code",
   "execution_count": null,
   "metadata": {
    "collapsed": false
   },
   "outputs": [],
   "source": [
    "# Pad with zeros\n",
    "lomx_p = np.pad(lomx, padding, mode='constant', constant_values=0)\n",
    "lomx_p.shape"
   ]
  },
  {
   "cell_type": "code",
   "execution_count": null,
   "metadata": {
    "collapsed": false
   },
   "outputs": [],
   "source": [
    "tgt_Y, tgt_X = np.ogrid[TGT_HEIGHT_Minus : TGT_HEIGHT_Plus, TGT_DISP : TGT_DISP+TGT_WIDTH]"
   ]
  },
  {
   "cell_type": "code",
   "execution_count": null,
   "metadata": {
    "collapsed": false
   },
   "outputs": [],
   "source": [
    "tgt_Y"
   ]
  },
  {
   "cell_type": "code",
   "execution_count": null,
   "metadata": {
    "collapsed": false
   },
   "outputs": [],
   "source": [
    "(y, x) = lomx.shape\n",
    "\n",
    "y, x = y-1, x-1\n",
    "\n",
    "print(y, x)\n",
    "\n",
    "padding = max([TGT_DISP + TGT_WIDTH, - TGT_HEIGHT_Minus, TGT_HEIGHT_Plus])\n",
    "print(padding)\n",
    "zone_Y = tgt_Y + (y + padding)\n",
    "zone_X = tgt_X + (x + padding)\n",
    "\n",
    "print(zone_X.max())\n",
    "\n",
    "plt.imshow(lomx_p[zone_Y, zone_X], cmap=plt.cm.gray)"
   ]
  },
  {
   "cell_type": "code",
   "execution_count": null,
   "metadata": {
    "collapsed": false
   },
   "outputs": [],
   "source": [
    "for time in [25]:\n",
    "    for freq in [lomx_p.shape[0]//2]:\n",
    "        tgt_Y_zone = tgt_Y + freq\n",
    "        tgt_X_zone = tgt_X + time\n",
    "        \n",
    "        tgt_zone = lomx_p[tgt_Y_zone, tgt_X_zone]\n",
    "        print(np.transpose(np.nonzero(tgt_zone)).shape)\n",
    "#         print(tgt_Y_zone)\n",
    "#         print(tgt_X_zone)\n",
    "#         plt.figure()\n",
    "#         plt.imshow(tgt_zone, cmap=plt.cm.gray)\n",
    "#         tgt_zone_YX = np.meshgrid(tgt_Y_zone, tgt_X_zone, indexing='ij')\n",
    "#         print(tgt_zone_YX)\n",
    "#         tgt_zone_2 = lomx_p[tgt_zone_YX]\n",
    "    \n",
    "#         print(np.all(tgt_zone == tgt_zone_2))\n",
    "#         plt.figure()\n",
    "#         plt.imshow(tgt_zone_2, cmap=plt.cm.gray)\n",
    "        \n",
    "        \n",
    "        "
   ]
  },
  {
   "cell_type": "code",
   "execution_count": null,
   "metadata": {
    "collapsed": true
   },
   "outputs": [],
   "source": [
    "xx = np.arange(81).reshape(9, 9)\n",
    "# YY, XX = np.ogrid[0:4, 0:5]\n",
    "print(xx[YY, XX])\n",
    "YX = np.meshgrid(YY, XX, indexing='ij')\n",
    "print(YX)\n",
    "# print(xx[YX])"
   ]
  },
  {
   "cell_type": "markdown",
   "metadata": {
    "collapsed": true
   },
   "source": [
    "****\n",
    "### Experiment with GLCM"
   ]
  },
  {
   "cell_type": "code",
   "execution_count": null,
   "metadata": {
    "collapsed": true
   },
   "outputs": [],
   "source": [
    "lmx = np.zeros(spec.shape)\n",
    "lmx[local_max[:, 0], local_max[:, 1]] = 1"
   ]
  },
  {
   "cell_type": "code",
   "execution_count": null,
   "metadata": {
    "collapsed": true
   },
   "outputs": [],
   "source": [
    "from skimage.feature import greycomatrix, greycoprops"
   ]
  },
  {
   "cell_type": "code",
   "execution_count": null,
   "metadata": {
    "collapsed": false
   },
   "outputs": [],
   "source": [
    "glcm = lambda t1, t2: greycomatrix(lmx[:, t1:t2], list(range(25, 51)), [0], levels=2)\n",
    "res = list(map(glcm, list(range(0,lmx.shape[1],50)), list(range(100,lmx.shape[1],50))))\n",
    "print(len(res))\n",
    "print(res[0].shape)"
   ]
  },
  {
   "cell_type": "code",
   "execution_count": null,
   "metadata": {
    "collapsed": false
   },
   "outputs": [],
   "source": [
    "colors = [['r', 'g'], ['b', 'y']]\n",
    "for k in range(len(res)):\n",
    "    for i in range(2):\n",
    "        for j in range(2):\n",
    "            if i == j == 0:\n",
    "                continue\n",
    "            plt.plot(res[k][i, j, :, 0], colors[i][j])"
   ]
  },
  {
   "cell_type": "code",
   "execution_count": null,
   "metadata": {
    "collapsed": false
   },
   "outputs": [],
   "source": [
    "colors = [['r', 'g'], ['b', 'y']]\n",
    "for k in range(len(res)):\n",
    "    for i in range(2):\n",
    "        for j in range(2):\n",
    "            if i == j == 0:\n",
    "                continue\n",
    "            plt.plot(res[k][i, j, :, 0], colors[i][j])"
   ]
  },
  {
   "cell_type": "code",
   "execution_count": null,
   "metadata": {
    "collapsed": true
   },
   "outputs": [],
   "source": [
    "from collections import defaultdict"
   ]
  },
  {
   "cell_type": "code",
   "execution_count": null,
   "metadata": {
    "collapsed": false
   },
   "outputs": [],
   "source": [
    "d = type(defaultdict(list))\n",
    "d1 = defaultdict(d)\n",
    "d1"
   ]
  },
  {
   "cell_type": "code",
   "execution_count": null,
   "metadata": {
    "collapsed": false
   },
   "outputs": [],
   "source": [
    "d3 = {kk:{k:list(range(v)) \n",
    "          for k, v in zip(range(2),range(1, 3))}\n",
    "     for kk in range(6)}\n",
    "\n",
    "d3"
   ]
  },
  {
   "cell_type": "code",
   "execution_count": null,
   "metadata": {
    "collapsed": false
   },
   "outputs": [],
   "source": [
    "d2 = {kk:{k:list(range(v)) \n",
    "          for k, v in zip(range(1, 4),range(3, 5))}\n",
    "     for kk in range(6)}\n",
    "d2"
   ]
  },
  {
   "cell_type": "code",
   "execution_count": null,
   "metadata": {
    "collapsed": false
   },
   "outputs": [],
   "source": [
    "for k in d2.keys():\n",
    "    d1[k].update(d2[k])"
   ]
  },
  {
   "cell_type": "code",
   "execution_count": null,
   "metadata": {
    "collapsed": true
   },
   "outputs": [],
   "source": [
    "for k in d3.keys():\n",
    "    d1[k].update(d3[k])"
   ]
  },
  {
   "cell_type": "code",
   "execution_count": null,
   "metadata": {
    "collapsed": false
   },
   "outputs": [],
   "source": [
    "d1"
   ]
  },
  {
   "cell_type": "code",
   "execution_count": null,
   "metadata": {
    "collapsed": false
   },
   "outputs": [],
   "source": [
    "list(d1.keys())"
   ]
  },
  {
   "cell_type": "code",
   "execution_count": null,
   "metadata": {
    "collapsed": false
   },
   "outputs": [],
   "source": [
    "d"
   ]
  },
  {
   "cell_type": "code",
   "execution_count": null,
   "metadata": {
    "collapsed": false
   },
   "outputs": [],
   "source": [
    "d.setdefault(1, dict(list())).setdefault(1, []).([2])\n",
    "d"
   ]
  },
  {
   "cell_type": "code",
   "execution_count": null,
   "metadata": {
    "collapsed": false
   },
   "outputs": [],
   "source": [
    "x = [1, 2, 3]\n",
    "y = [2, 3, 4]\n",
    "x+y"
   ]
  },
  {
   "cell_type": "code",
   "execution_count": null,
   "metadata": {
    "collapsed": false
   },
   "outputs": [],
   "source": [
    "d[1] = (d.get(1, dict(list())))\n",
    "d[1][1] = d[1].get(1, []) + [1, 2]"
   ]
  },
  {
   "cell_type": "code",
   "execution_count": null,
   "metadata": {
    "collapsed": false
   },
   "outputs": [],
   "source": [
    "d = dict(dict(list()))"
   ]
  },
  {
   "cell_type": "code",
   "execution_count": null,
   "metadata": {
    "collapsed": false
   },
   "outputs": [],
   "source": [
    "d"
   ]
  },
  {
   "cell_type": "code",
   "execution_count": null,
   "metadata": {
    "collapsed": false
   },
   "outputs": [],
   "source": [
    "j = (1, 2)\n",
    "k = 2\n",
    "l = 4\n",
    "if j not in d.keys():\n",
    "    d[j] = {k: {l: []}}\n",
    "# else:\n",
    "#     d[j][k] = \n",
    "d[j][k][l] = [1, 2]\n",
    "\n",
    "d"
   ]
  },
  {
   "cell_type": "code",
   "execution_count": null,
   "metadata": {
    "collapsed": false
   },
   "outputs": [],
   "source": [
    "j = 1\n",
    "k = 2\n",
    "l = 3\n",
    "d.setdefault(j, dict(list))\n",
    "d[j][k][l] = [1, 2]"
   ]
  },
  {
   "cell_type": "code",
   "execution_count": null,
   "metadata": {
    "collapsed": false
   },
   "outputs": [],
   "source": [
    "d"
   ]
  },
  {
   "cell_type": "code",
   "execution_count": null,
   "metadata": {
    "collapsed": true
   },
   "outputs": [],
   "source": [
    "TGT_ZONE = {\n",
    "    \"height_minus\": 25,\n",
    "    \"height_plus\": 25,\n",
    "    \"width\": 50,\n",
    "    \"displacement\": 50\n",
    "}"
   ]
  },
  {
   "cell_type": "code",
   "execution_count": null,
   "metadata": {
    "collapsed": false
   },
   "outputs": [],
   "source": [
    "max(((TGT_ZONE.values()))) - 1"
   ]
  },
  {
   "cell_type": "markdown",
   "metadata": {},
   "source": [
    "***"
   ]
  },
  {
   "cell_type": "code",
   "execution_count": 8,
   "metadata": {
    "collapsed": false
   },
   "outputs": [],
   "source": [
    "from duplicate_audio.fingerprinting import fingerprint"
   ]
  },
  {
   "cell_type": "code",
   "execution_count": null,
   "metadata": {
    "collapsed": false
   },
   "outputs": [],
   "source": [
    "f = fingerprint(wav_dict[\"data\"], wav_dict[\"sampling_frequency\"], 0)\n"
   ]
  },
  {
   "cell_type": "code",
   "execution_count": null,
   "metadata": {
    "collapsed": false
   },
   "outputs": [],
   "source": [
    "len(f.keys())"
   ]
  },
  {
   "cell_type": "code",
   "execution_count": null,
   "metadata": {
    "collapsed": true
   },
   "outputs": [],
   "source": [
    "TGT_ZONE = {\n",
    "    \"height_minus\": 25,\n",
    "    \"height_plus\": 25,\n",
    "    \"width\": 50,\n",
    "    \"displacement\": 50\n",
    "}\n",
    "\n",
    "PEAK_MIN_DIST = 2\n",
    "\n",
    "import numpy as np\n",
    "from scipy.signal import spectrogram\n",
    "from skimage.feature import peak_local_max\n",
    "\n",
    "def fingerprint_channel(dc, fs):\n",
    "    [f_spec, t_spec, spec] = spectrogram(dc, fs=fs, scaling='spectrum')\n",
    "    t_diff = t_spec[1] - t_spec[0]\n",
    "\n",
    "    lmx_2d = peak_local_max(spec, min_distance=PEAK_MIN_DIST,\n",
    "                             exclude_border=False, threshold_rel=0, indices=False)\n",
    "\n",
    "#     lmx_2d = np.zeros(spec.shape)\n",
    "#     lmx_2d[lmx_loc[:, 0], lmx_loc[:, 1]] = 1\n",
    "    lmx_loc = np.transpose(np.nonzero(lmx_2d))\n",
    "\n",
    "    # pad the lmx_2d for later target zoning\n",
    "    # use the max TGT_ZONE properties\n",
    "    padding = max(TGT_ZONE.values()) + (TGT_ZONE[\"displacement\"])\n",
    "    lmx_2d = np.pad(lmx_2d, padding,\n",
    "                    mode='constant', constant_values=0)\n",
    "\n",
    "    tgt_Y, tgt_X = np.ogrid[-TGT_ZONE[\"height_minus\"]:TGT_ZONE[\"height_plus\"],\n",
    "                            TGT_ZONE[\"displacement\"]:\n",
    "                            TGT_ZONE[\"displacement\"] + TGT_ZONE[\"width\"]]\n",
    "\n",
    "    fingerprints = dict(list())\n",
    "\n",
    "    for (y, x) in lmx_loc:\n",
    "        zone_Y = tgt_Y + (y + padding - 1)\n",
    "        zone_X = tgt_X + (x + padding - 1)\n",
    "        zone = lmx_2d[zone_Y, zone_X]\n",
    "\n",
    "        nonzero_loc = np.transpose(np.nonzero(zone))\n",
    "        nonzero_loc[:, 0] += (y - TGT_ZONE[\"height_minus\"] - 1)  # f2\n",
    "        nonzero_loc[:, 1] += TGT_ZONE[\"displacement\"]  # t2-t1\n",
    "\n",
    "        for i, (f2, t21) in enumerate(nonzero_loc):\n",
    "            fingerprint = (f_spec[y], f_spec[f2], t21 * t_diff)\n",
    "            value = t_spec[x]\n",
    "            fingerprints.setdefault(fingerprint, []).append(value)\n",
    "\n",
    "    return fingerprints\n"
   ]
  },
  {
   "cell_type": "code",
   "execution_count": null,
   "metadata": {
    "collapsed": false
   },
   "outputs": [],
   "source": [
    "dc = wav_dict[\"data\"][:, 0]\n",
    "fs = wav_dict[\"sampling_frequency\"]"
   ]
  },
  {
   "cell_type": "code",
   "execution_count": 10,
   "metadata": {
    "collapsed": true
   },
   "outputs": [],
   "source": [
    "import cProfile"
   ]
  },
  {
   "cell_type": "code",
   "execution_count": null,
   "metadata": {
    "collapsed": false
   },
   "outputs": [],
   "source": [
    "cProfile.run('fingerprint_channel(dc, fs)', sort='ncalls')"
   ]
  },
  {
   "cell_type": "code",
   "execution_count": null,
   "metadata": {
    "collapsed": false
   },
   "outputs": [],
   "source": [
    "cProfile.run('fingerprint_channel(dc, fs)', sort='ncalls')"
   ]
  },
  {
   "cell_type": "code",
   "execution_count": null,
   "metadata": {
    "collapsed": false
   },
   "outputs": [],
   "source": [
    "cProfile.run('fingerprint_channel(dc, fs)', sort='ncalls')"
   ]
  },
  {
   "cell_type": "code",
   "execution_count": null,
   "metadata": {
    "collapsed": false
   },
   "outputs": [],
   "source": [
    "cProfile.run('fingerprint(wav_dict[\"data\"], wav_dict[\"sampling_frequency\"], 0)', sort='ncalls')"
   ]
  },
  {
   "cell_type": "code",
   "execution_count": 14,
   "metadata": {
    "collapsed": false
   },
   "outputs": [
    {
     "name": "stdout",
     "output_type": "stream",
     "text": [
      "         770537 function calls in 3.947 seconds\n",
      "\n",
      "   Ordered by: call count\n",
      "\n",
      "   ncalls  tottime  percall  cumtime  percall filename:lineno(function)\n",
      "   462319    0.276    0.000    0.276    0.000 {method 'setdefault' of 'dict' objects}\n",
      "   268238    0.065    0.000    0.065    0.000 {method 'append' of 'list' objects}\n",
      "     4977    0.030    0.000    0.030    0.000 {built-in method array}\n",
      "     4971    0.007    0.000    0.037    0.000 numeric.py:394(asarray)\n",
      "     4951    0.002    0.000    0.002    0.000 {method 'transpose' of 'numpy.ndarray' objects}\n",
      "     4949    0.017    0.000    0.058    0.000 fromnumeric.py:40(_wrapit)\n",
      "     4949    0.002    0.000    0.002    0.000 {built-in method getattr}\n",
      "     4949    0.019    0.000    0.076    0.000 fromnumeric.py:495(transpose)\n",
      "     4949    0.004    0.000    0.073    0.000 fromnumeric.py:1380(nonzero)\n",
      "     4949    0.069    0.000    0.069    0.000 {method 'nonzero' of 'numpy.ndarray' objects}\n",
      "       40    0.000    0.000    0.000    0.000 {built-in method isinstance}\n",
      "       22    0.000    0.000    0.000    0.000 {built-in method len}\n",
      "       16    0.000    0.000    0.000    0.000 {built-in method zeros}\n",
      "       14    0.000    0.000    0.000    0.000 {built-in method issubclass}\n",
      "       12    0.000    0.000    0.000    0.000 arraypad.py:102(<genexpr>)\n",
      "       12    0.000    0.000    0.000    0.000 arraypad.py:136(<genexpr>)\n",
      "       12    0.000    0.000    0.000    0.000 {built-in method arange}\n",
      "       10    0.000    0.000    0.000    0.000 {built-in method concatenate}\n",
      "        8    0.001    0.000    0.001    0.000 {method 'reduce' of 'numpy.ufunc' objects}\n",
      "        8    0.000    0.000    0.000    0.000 type_check.py:237(iscomplexobj)\n",
      "        6    0.000    0.000    0.000    0.000 _ni_support.py:70(_get_output)\n",
      "        4    0.000    0.000    0.000    0.000 {built-in method hasattr}\n",
      "        4    0.000    0.000    0.000    0.000 numeric.py:464(asanyarray)\n",
      "        4    0.000    0.000    0.000    0.000 {built-in method copyto}\n",
      "        4    0.000    0.000    0.000    0.000 basic.py:24(istype)\n",
      "        4    0.000    0.000    0.000    0.000 _ni_support.py:55(_normalize_sequence)\n",
      "        4    0.000    0.000    0.000    0.000 _ni_support.py:90(_check_axis)\n",
      "        4    0.000    0.000    0.000    0.000 arraypad.py:990(_normalize_shape)\n",
      "        4    0.000    0.000    0.000    0.000 arraypad.py:1082(<listcomp>)\n",
      "        4    0.000    0.000    0.000    0.000 arraypad.py:1081(<listcomp>)\n",
      "        4    0.004    0.001    0.004    0.001 {built-in method min_or_max_filter1d}\n",
      "        4    0.000    0.000    0.000    0.000 {built-in method empty}\n",
      "        4    0.000    0.000    0.000    0.000 fromnumeric.py:1462(shape)\n",
      "        4    0.000    0.000    0.000    0.000 {method 'copy' of 'numpy.ndarray' objects}\n",
      "        4    0.000    0.000    0.000    0.000 {built-in method ceil}\n",
      "        4    0.000    0.000    0.000    0.000 _ni_support.py:38(_extend_mode_to_code)\n",
      "        4    0.000    0.000    0.004    0.001 filters.py:820(maximum_filter1d)\n",
      "        4    0.000    0.000    0.000    0.000 {built-in method result_type}\n",
      "        4    0.000    0.000    0.000    0.000 arraypad.py:78(_prepend_const)\n",
      "        4    0.000    0.000    0.000    0.000 {built-in method max}\n",
      "        4    0.000    0.000    0.000    0.000 arraypad.py:112(_append_const)\n",
      "        4    0.000    0.000    0.000    0.000 {method 'astype' of 'numpy.ndarray' objects}\n",
      "        2    0.000    0.000    0.000    0.000 windows.py:712(tukey)\n",
      "        2    0.000    0.000    0.004    0.002 filters.py:872(_min_or_max_filter)\n",
      "        2    0.000    0.000    0.000    0.000 {method 'ravel' of 'numpy.ndarray' objects}\n",
      "        2    0.000    0.000    0.000    0.000 {built-in method empty_like}\n",
      "        2    0.000    0.000    0.000    0.000 {method 'values' of 'dict' objects}\n",
      "        2    0.000    0.000    0.000    0.000 fromnumeric.py:2058(amax)\n",
      "        2    0.000    0.000    0.000    0.000 {method 'insert' of 'list' objects}\n",
      "        2    0.000    0.000    0.000    0.000 _methods.py:40(_all)\n",
      "        2    0.000    0.000    0.000    0.000 shape_base.py:219(expand_dims)\n",
      "        2    0.001    0.000    0.006    0.003 peak.py:6(peak_local_max)\n",
      "        2    0.000    0.000    0.001    0.000 arraypad.py:1093(pad)\n",
      "        2    0.006    0.003    0.006    0.003 basic.py:176(fft)\n",
      "        2    0.000    0.000    0.001    0.000 numeric.py:733(argwhere)\n",
      "        2    0.000    0.000    0.000    0.000 filters.py:904(<listcomp>)\n",
      "        2    0.000    0.000    0.000    0.000 numeric.py:141(ones)\n",
      "        2    0.000    0.000    0.000    0.000 _methods.py:25(_amax)\n",
      "        2    0.000    0.000    0.000    0.000 index_tricks.py:151(__getitem__)\n",
      "        2    0.000    0.000    0.000    0.000 numeric.py:81(zeros_like)\n",
      "        2    0.000    0.000    0.000    0.000 arraypad.py:1048(_validate_lengths)\n",
      "        2    2.546    1.273    2.937    1.469 fingerprinting.py:50(fingerprint_channel)\n",
      "        2    0.000    0.000    0.003    0.001 spectral.py:793(detrend_func)\n",
      "        2    0.000    0.000    0.000    0.000 fromnumeric.py:1852(all)\n",
      "        2    0.002    0.001    0.003    0.001 signaltools.py:1762(detrend)\n",
      "        2    0.000    0.000    0.000    0.000 basic.py:123(_asfarray)\n",
      "        2    0.000    0.000    0.001    0.000 fromnumeric.py:2651(mean)\n",
      "        2    0.000    0.000    0.000    0.000 _methods.py:31(_sum)\n",
      "        2    0.004    0.002    0.013    0.007 spectral.py:904(_fft_helper)\n",
      "        2    0.000    0.000    0.000    0.000 helper.py:127(fftfreq)\n",
      "        2    0.000    0.000    0.000    0.000 stride_tricks.py:19(__init__)\n",
      "        2    0.000    0.000    0.000    0.000 basic.py:28(_datacopied)\n",
      "        2    0.000    0.000    0.000    0.000 stride_tricks.py:23(as_strided)\n",
      "        2    0.000    0.000    0.004    0.002 filters.py:954(maximum_filter)\n",
      "        2    0.005    0.002    0.019    0.009 spectral.py:627(_spectral_helper)\n",
      "        2    0.000    0.000    0.000    0.000 index_tricks.py:173(<listcomp>)\n",
      "        2    0.000    0.000    0.000    0.000 numeric.py:1347(rollaxis)\n",
      "        2    0.000    0.000    0.000    0.000 {method 'all' of 'numpy.ndarray' objects}\n",
      "        2    0.000    0.000    0.000    0.000 {method 'keys' of 'dict' objects}\n",
      "        2    0.000    0.000    0.000    0.000 windows.py:1611(get_window)\n",
      "        2    0.000    0.000    0.019    0.009 spectral.py:401(spectrogram)\n",
      "        2    0.000    0.000    0.000    0.000 _methods.py:43(_count_reduce_items)\n",
      "        2    0.000    0.000    0.000    0.000 {method 'sum' of 'numpy.ndarray' objects}\n",
      "        2    0.000    0.000    0.000    0.000 {method 'reshape' of 'numpy.ndarray' objects}\n",
      "        2    0.000    0.000    0.000    0.000 {method 'remove' of 'list' objects}\n",
      "        2    0.000    0.000    0.001    0.000 _methods.py:53(_mean)\n",
      "        1    0.277    0.277    3.946    3.946 <string>:1(<module>)\n",
      "        1    0.000    0.000    3.947    3.947 {built-in method exec}\n",
      "        1    0.608    0.608    3.670    3.670 fingerprinting.py:16(fingerprint)\n",
      "        1    0.000    0.000    0.000    0.000 {method 'disable' of '_lsprof.Profiler' objects}\n",
      "\n",
      "\n"
     ]
    }
   ],
   "source": [
    "cProfile.run('fingerprint(wav_dict[\"data\"], wav_dict[\"sampling_frequency\"], 0)', sort='ncalls')"
   ]
  },
  {
   "cell_type": "code",
   "execution_count": null,
   "metadata": {
    "collapsed": true
   },
   "outputs": [],
   "source": []
  }
 ],
 "metadata": {
  "kernelspec": {
   "display_name": "Python 3",
   "language": "python",
   "name": "python3"
  },
  "language_info": {
   "codemirror_mode": {
    "name": "ipython",
    "version": 3
   },
   "file_extension": ".py",
   "mimetype": "text/x-python",
   "name": "python",
   "nbconvert_exporter": "python",
   "pygments_lexer": "ipython3",
   "version": "3.4.3"
  }
 },
 "nbformat": 4,
 "nbformat_minor": 0
}

{
 "cells": [
  {
   "cell_type": "code",
   "execution_count": 1,
   "metadata": {
    "collapsed": false
   },
   "outputs": [],
   "source": [
    "from scipy import signal\n",
    "from skimage.feature import peak_local_max\n",
    "import numpy as np"
   ]
  },
  {
   "cell_type": "code",
   "execution_count": null,
   "metadata": {
    "collapsed": true
   },
   "outputs": [],
   "source": [
    "from bokeh.plotting import figure, show, output_notebook, gridplot\n",
    "from bokeh.palettes import Blues9, Reds3"
   ]
  },
  {
   "cell_type": "code",
   "execution_count": 2,
   "metadata": {
    "collapsed": true
   },
   "outputs": [],
   "source": [
    "import matplotlib.pyplot as plt\n",
    "%matplotlib inline"
   ]
  },
  {
   "cell_type": "code",
   "execution_count": 3,
   "metadata": {
    "collapsed": true
   },
   "outputs": [],
   "source": [
    "import duplicate_audio.wavBasicRead as wbr"
   ]
  },
  {
   "cell_type": "code",
   "execution_count": 4,
   "metadata": {
    "collapsed": true
   },
   "outputs": [],
   "source": [
    "# WAV_FILE_PATH = \"./resources/4-free-drum-loops-127-bpm/01-drum-loop-127-bpm.wav\"\n",
    "WAV_FILE_PATH = \"./resources/4-free-drum-loops-127-bpm/02-drum-loop-127-bpm.wav\""
   ]
  },
  {
   "cell_type": "markdown",
   "metadata": {},
   "source": [
    "## Read a wav file into a numpy array"
   ]
  },
  {
   "cell_type": "code",
   "execution_count": 5,
   "metadata": {
    "collapsed": false
   },
   "outputs": [
    {
     "data": {
      "text/plain": [
       "{'abs_file_path': '/Users/myrmidon/Delve/studies-mi/mmar/duplicate_audio/resources/4-free-drum-loops-127-bpm/02-drum-loop-127-bpm.wav',\n",
       " 'data': array([[  0,   0],\n",
       "        [  0,   0],\n",
       "        [  0,   0],\n",
       "        ..., \n",
       "        [299, 253],\n",
       "        [381, 415],\n",
       "        [  0,   0]], dtype=int16),\n",
       " 'sampling_frequency': 44100}"
      ]
     },
     "execution_count": 5,
     "metadata": {},
     "output_type": "execute_result"
    }
   ],
   "source": [
    "wav_dict = wbr.read_single_wav(WAV_FILE_PATH)\n",
    "wav_dict"
   ]
  },
  {
   "cell_type": "code",
   "execution_count": 6,
   "metadata": {
    "collapsed": false
   },
   "outputs": [
    {
     "data": {
      "text/plain": [
       "{'abs_file_path': '/Users/myrmidon/Delve/studies-mi/mmar/duplicate_audio/resources/4-free-drum-loops-127-bpm/02-drum-loop-127-bpm.wav',\n",
       " 'data': array([[  0,   0],\n",
       "        [  0,   0],\n",
       "        [  0,   0],\n",
       "        ..., \n",
       "        [299, 253],\n",
       "        [381, 415],\n",
       "        [  0,   0]], dtype=int16),\n",
       " 'n_channels': 2,\n",
       " 'n_samples': 166678,\n",
       " 'sampling_frequency': 44100}"
      ]
     },
     "execution_count": 6,
     "metadata": {},
     "output_type": "execute_result"
    }
   ],
   "source": [
    "wav_dict[\"n_samples\"], wav_dict[\"n_channels\"] = wav_dict[\"data\"].shape\n",
    "wav_dict"
   ]
  },
  {
   "cell_type": "markdown",
   "metadata": {},
   "source": [
    "### Plotting the amplitude"
   ]
  },
  {
   "cell_type": "code",
   "execution_count": null,
   "metadata": {
    "collapsed": false
   },
   "outputs": [],
   "source": [
    "# x = np.arange(2001)\n",
    "# y = [wav_dict[\"data\"][0::wav_dict[\"n_samples\"]//2000, c] for c in range(wav_dict[\"n_channels\"])]"
   ]
  },
  {
   "cell_type": "code",
   "execution_count": null,
   "metadata": {
    "collapsed": false
   },
   "outputs": [],
   "source": [
    "# output_notebook()"
   ]
  },
  {
   "cell_type": "code",
   "execution_count": null,
   "metadata": {
    "collapsed": false
   },
   "outputs": [],
   "source": [
    "# pp = []\n",
    "# for i, yy in enumerate(y):\n",
    "#     p = figure(title=(\"Channel :%d\")%i, width=250, height=250)\n",
    "#     p.line(x, yy)\n",
    "#     pp.append(p)\n",
    "\n",
    "# ppp = gridplot([pp])\n",
    "# show(ppp)"
   ]
  },
  {
   "cell_type": "markdown",
   "metadata": {
    "collapsed": true
   },
   "source": [
    "## Spectogram\n",
    "\n",
    "For now, let's stick to the first channel"
   ]
  },
  {
   "cell_type": "code",
   "execution_count": null,
   "metadata": {
    "collapsed": true
   },
   "outputs": [],
   "source": [
    "[spec_f, spec_t, spec] = signal.spectrogram(wav_dict[\"data\"][:, 0],\n",
    "                                           fs=wav_dict[\"sampling_frequency\"],\n",
    "                                           scaling='spectrum')"
   ]
  },
  {
   "cell_type": "code",
   "execution_count": null,
   "metadata": {
    "collapsed": false
   },
   "outputs": [],
   "source": [
    "plt.plot(spec_t)"
   ]
  },
  {
   "cell_type": "code",
   "execution_count": null,
   "metadata": {
    "collapsed": false
   },
   "outputs": [],
   "source": [
    "# output_notebook()\n",
    "\n",
    "# im_data = np.log(spec[:, 0:5000])\n",
    "# s = figure(title=\"Spectogram\", x_range=(0, im_data.shape[1]), y_range=(0, im_data.shape[0]), webgl=True)\n",
    "# s.image(image=[im_data], x=[0], y=[0], dw=[im_data.shape[1]], dh=[im_data.shape[0]], palette=Blues9 )\n",
    "\n",
    "# show(s)"
   ]
  },
  {
   "cell_type": "markdown",
   "metadata": {},
   "source": [
    "## Find local maxima"
   ]
  },
  {
   "cell_type": "code",
   "execution_count": null,
   "metadata": {
    "collapsed": true
   },
   "outputs": [],
   "source": [
    "local_max = peak_local_max(spec, min_distance=2, exclude_border=False, threshold_rel=0)"
   ]
  },
  {
   "cell_type": "code",
   "execution_count": null,
   "metadata": {
    "collapsed": false
   },
   "outputs": [],
   "source": [
    "c = 10\n",
    "for (x, y) in local_max:\n",
    "    if c > 0:\n",
    "        print(x, y)\n",
    "        c -= 1\n",
    "    else:\n",
    "        break"
   ]
  },
  {
   "cell_type": "markdown",
   "metadata": {},
   "source": [
    "## Define Target Zone"
   ]
  },
  {
   "cell_type": "code",
   "execution_count": null,
   "metadata": {
    "collapsed": true
   },
   "outputs": [],
   "source": [
    "TGT_HEIGHT_Minus, TGT_HEIGHT_Plus, TGT_WIDTH, TGT_DISP = [-25, 25, 25, 50]"
   ]
  },
  {
   "cell_type": "code",
   "execution_count": null,
   "metadata": {
    "collapsed": false
   },
   "outputs": [],
   "source": [
    "padding = max([TGT_DISP + TGT_WIDTH, - TGT_HEIGHT_Minus, TGT_HEIGHT_Plus])\n",
    "print(padding)"
   ]
  },
  {
   "cell_type": "code",
   "execution_count": null,
   "metadata": {
    "collapsed": false
   },
   "outputs": [],
   "source": [
    "lomx = np.zeros(spec.shape)\n",
    "lomx[local_max[:, 0], local_max[:, 1]] = 1\n",
    "lomx.shape"
   ]
  },
  {
   "cell_type": "code",
   "execution_count": null,
   "metadata": {
    "collapsed": false
   },
   "outputs": [],
   "source": [
    "plt.imshow(lomx*255, cmap=plt.cm.gray)"
   ]
  },
  {
   "cell_type": "code",
   "execution_count": null,
   "metadata": {
    "collapsed": false
   },
   "outputs": [],
   "source": [
    "plt.plot(np.sum(lomx, axis=1))"
   ]
  },
  {
   "cell_type": "code",
   "execution_count": null,
   "metadata": {
    "collapsed": false
   },
   "outputs": [],
   "source": [
    "plt.plot(np.sum(lomx, axis=0))"
   ]
  },
  {
   "cell_type": "code",
   "execution_count": null,
   "metadata": {
    "collapsed": false
   },
   "outputs": [],
   "source": [
    "lomx.shape"
   ]
  },
  {
   "cell_type": "code",
   "execution_count": null,
   "metadata": {
    "collapsed": false
   },
   "outputs": [],
   "source": [
    "x = np.zeros((2, 3))\n",
    "x[1, 1] = 1\n",
    "x[1, 0] = 1\n",
    "x[0, 0] = 1\n",
    "a = np.nonzero(x)\n",
    "print(a)\n",
    "print()\n",
    "at = np.transpose(np.nonzero(x))\n",
    "print(at)\n",
    "print()\n",
    "# for (y, x) in a:\n",
    "#     print(\"y:\", y, \"x:\", x)\n",
    "# print()\n",
    "# for (x, y) in at:\n",
    "#     print(\"y:\", y, \"x:\", x)\n",
    "\n",
    "def fu(y, x):\n",
    "    print(y, x)\n",
    "    \n",
    "vfu = np.vectorize(fu)\n",
    "vfu(at[:, 0], at[:, 1])"
   ]
  },
  {
   "cell_type": "code",
   "execution_count": null,
   "metadata": {
    "collapsed": false
   },
   "outputs": [],
   "source": [
    "# Pad with zeros\n",
    "lomx_p = np.pad(lomx, padding, mode='constant', constant_values=0)\n",
    "lomx_p.shape"
   ]
  },
  {
   "cell_type": "code",
   "execution_count": null,
   "metadata": {
    "collapsed": false
   },
   "outputs": [],
   "source": [
    "tgt_Y, tgt_X = np.ogrid[TGT_HEIGHT_Minus : TGT_HEIGHT_Plus, TGT_DISP : TGT_DISP+TGT_WIDTH]"
   ]
  },
  {
   "cell_type": "code",
   "execution_count": null,
   "metadata": {
    "collapsed": false
   },
   "outputs": [],
   "source": [
    "tgt_Y"
   ]
  },
  {
   "cell_type": "code",
   "execution_count": null,
   "metadata": {
    "collapsed": false
   },
   "outputs": [],
   "source": [
    "(y, x) = lomx.shape\n",
    "\n",
    "y, x = y-1, x-1\n",
    "\n",
    "print(y, x)\n",
    "\n",
    "padding = max([TGT_DISP + TGT_WIDTH, - TGT_HEIGHT_Minus, TGT_HEIGHT_Plus])\n",
    "print(padding)\n",
    "zone_Y = tgt_Y + (y + padding)\n",
    "zone_X = tgt_X + (x + padding)\n",
    "\n",
    "print(zone_X.max())\n",
    "\n",
    "plt.imshow(lomx_p[zone_Y, zone_X], cmap=plt.cm.gray)"
   ]
  },
  {
   "cell_type": "code",
   "execution_count": null,
   "metadata": {
    "collapsed": false
   },
   "outputs": [],
   "source": [
    "for time in [25]:\n",
    "    for freq in [lomx_p.shape[0]//2]:\n",
    "        tgt_Y_zone = tgt_Y + freq\n",
    "        tgt_X_zone = tgt_X + time\n",
    "        \n",
    "        tgt_zone = lomx_p[tgt_Y_zone, tgt_X_zone]\n",
    "        print(np.transpose(np.nonzero(tgt_zone)).shape)\n",
    "#         print(tgt_Y_zone)\n",
    "#         print(tgt_X_zone)\n",
    "#         plt.figure()\n",
    "#         plt.imshow(tgt_zone, cmap=plt.cm.gray)\n",
    "#         tgt_zone_YX = np.meshgrid(tgt_Y_zone, tgt_X_zone, indexing='ij')\n",
    "#         print(tgt_zone_YX)\n",
    "#         tgt_zone_2 = lomx_p[tgt_zone_YX]\n",
    "    \n",
    "#         print(np.all(tgt_zone == tgt_zone_2))\n",
    "#         plt.figure()\n",
    "#         plt.imshow(tgt_zone_2, cmap=plt.cm.gray)\n",
    "        \n",
    "        \n",
    "        "
   ]
  },
  {
   "cell_type": "code",
   "execution_count": null,
   "metadata": {
    "collapsed": true
   },
   "outputs": [],
   "source": [
    "xx = np.arange(81).reshape(9, 9)\n",
    "# YY, XX = np.ogrid[0:4, 0:5]\n",
    "print(xx[YY, XX])\n",
    "YX = np.meshgrid(YY, XX, indexing='ij')\n",
    "print(YX)\n",
    "# print(xx[YX])"
   ]
  },
  {
   "cell_type": "markdown",
   "metadata": {
    "collapsed": true
   },
   "source": [
    "****\n",
    "### Experiment with GLCM"
   ]
  },
  {
   "cell_type": "code",
   "execution_count": null,
   "metadata": {
    "collapsed": true
   },
   "outputs": [],
   "source": [
    "lmx = np.zeros(spec.shape)\n",
    "lmx[local_max[:, 0], local_max[:, 1]] = 1"
   ]
  },
  {
   "cell_type": "code",
   "execution_count": null,
   "metadata": {
    "collapsed": true
   },
   "outputs": [],
   "source": [
    "from skimage.feature import greycomatrix, greycoprops"
   ]
  },
  {
   "cell_type": "code",
   "execution_count": null,
   "metadata": {
    "collapsed": false
   },
   "outputs": [],
   "source": [
    "glcm = lambda t1, t2: greycomatrix(lmx[:, t1:t2], list(range(25, 51)), [0], levels=2)\n",
    "res = list(map(glcm, list(range(0,lmx.shape[1],50)), list(range(100,lmx.shape[1],50))))\n",
    "print(len(res))\n",
    "print(res[0].shape)"
   ]
  },
  {
   "cell_type": "code",
   "execution_count": null,
   "metadata": {
    "collapsed": false
   },
   "outputs": [],
   "source": [
    "colors = [['r', 'g'], ['b', 'y']]\n",
    "for k in range(len(res)):\n",
    "    for i in range(2):\n",
    "        for j in range(2):\n",
    "            if i == j == 0:\n",
    "                continue\n",
    "            plt.plot(res[k][i, j, :, 0], colors[i][j])"
   ]
  },
  {
   "cell_type": "code",
   "execution_count": null,
   "metadata": {
    "collapsed": false
   },
   "outputs": [],
   "source": [
    "colors = [['r', 'g'], ['b', 'y']]\n",
    "for k in range(len(res)):\n",
    "    for i in range(2):\n",
    "        for j in range(2):\n",
    "            if i == j == 0:\n",
    "                continue\n",
    "            plt.plot(res[k][i, j, :, 0], colors[i][j])"
   ]
  },
  {
   "cell_type": "code",
   "execution_count": null,
   "metadata": {
    "collapsed": true
   },
   "outputs": [],
   "source": [
    "from collections import defaultdict"
   ]
  },
  {
   "cell_type": "code",
   "execution_count": null,
   "metadata": {
    "collapsed": false
   },
   "outputs": [],
   "source": [
    "d = type(defaultdict(list))\n",
    "d1 = defaultdict(d)\n",
    "d1"
   ]
  },
  {
   "cell_type": "code",
   "execution_count": null,
   "metadata": {
    "collapsed": false
   },
   "outputs": [],
   "source": [
    "d3 = {kk:{k:list(range(v)) \n",
    "          for k, v in zip(range(2),range(1, 3))}\n",
    "     for kk in range(6)}\n",
    "\n",
    "d3"
   ]
  },
  {
   "cell_type": "code",
   "execution_count": null,
   "metadata": {
    "collapsed": false
   },
   "outputs": [],
   "source": [
    "d2 = {kk:{k:list(range(v)) \n",
    "          for k, v in zip(range(1, 4),range(3, 5))}\n",
    "     for kk in range(6)}\n",
    "d2"
   ]
  },
  {
   "cell_type": "code",
   "execution_count": null,
   "metadata": {
    "collapsed": false
   },
   "outputs": [],
   "source": [
    "for k in d2.keys():\n",
    "    d1[k].update(d2[k])"
   ]
  },
  {
   "cell_type": "code",
   "execution_count": null,
   "metadata": {
    "collapsed": true
   },
   "outputs": [],
   "source": [
    "for k in d3.keys():\n",
    "    d1[k].update(d3[k])"
   ]
  },
  {
   "cell_type": "code",
   "execution_count": null,
   "metadata": {
    "collapsed": false
   },
   "outputs": [],
   "source": [
    "d1"
   ]
  },
  {
   "cell_type": "code",
   "execution_count": null,
   "metadata": {
    "collapsed": false
   },
   "outputs": [],
   "source": [
    "list(d1.keys())"
   ]
  },
  {
   "cell_type": "code",
   "execution_count": null,
   "metadata": {
    "collapsed": false
   },
   "outputs": [],
   "source": [
    "d"
   ]
  },
  {
   "cell_type": "code",
   "execution_count": null,
   "metadata": {
    "collapsed": false
   },
   "outputs": [],
   "source": [
    "d.setdefault(1, dict(list())).setdefault(1, []).([2])\n",
    "d"
   ]
  },
  {
   "cell_type": "code",
   "execution_count": null,
   "metadata": {
    "collapsed": false
   },
   "outputs": [],
   "source": [
    "x = [1, 2, 3]\n",
    "y = [2, 3, 4]\n",
    "x+y"
   ]
  },
  {
   "cell_type": "code",
   "execution_count": null,
   "metadata": {
    "collapsed": false
   },
   "outputs": [],
   "source": [
    "d[1] = (d.get(1, dict(list())))\n",
    "d[1][1] = d[1].get(1, []) + [1, 2]"
   ]
  },
  {
   "cell_type": "code",
   "execution_count": null,
   "metadata": {
    "collapsed": false
   },
   "outputs": [],
   "source": [
    "d = dict(dict(list()))"
   ]
  },
  {
   "cell_type": "code",
   "execution_count": null,
   "metadata": {
    "collapsed": false
   },
   "outputs": [],
   "source": [
    "d"
   ]
  },
  {
   "cell_type": "code",
   "execution_count": null,
   "metadata": {
    "collapsed": false
   },
   "outputs": [],
   "source": [
    "j = (1, 2)\n",
    "k = 2\n",
    "l = 4\n",
    "if j not in d.keys():\n",
    "    d[j] = {k: {l: []}}\n",
    "# else:\n",
    "#     d[j][k] = \n",
    "d[j][k][l] = [1, 2]\n",
    "\n",
    "d"
   ]
  },
  {
   "cell_type": "code",
   "execution_count": null,
   "metadata": {
    "collapsed": false
   },
   "outputs": [],
   "source": [
    "j = 1\n",
    "k = 2\n",
    "l = 3\n",
    "d.setdefault(j, dict(list))\n",
    "d[j][k][l] = [1, 2]"
   ]
  },
  {
   "cell_type": "code",
   "execution_count": null,
   "metadata": {
    "collapsed": false
   },
   "outputs": [],
   "source": [
    "d"
   ]
  },
  {
   "cell_type": "code",
   "execution_count": null,
   "metadata": {
    "collapsed": true
   },
   "outputs": [],
   "source": [
    "TGT_ZONE = {\n",
    "    \"height_minus\": 25,\n",
    "    \"height_plus\": 25,\n",
    "    \"width\": 50,\n",
    "    \"displacement\": 50\n",
    "}"
   ]
  },
  {
   "cell_type": "code",
   "execution_count": null,
   "metadata": {
    "collapsed": false
   },
   "outputs": [],
   "source": [
    "max(((TGT_ZONE.values()))) - 1"
   ]
  },
  {
   "cell_type": "markdown",
   "metadata": {},
   "source": [
    "***"
   ]
  },
  {
   "cell_type": "code",
   "execution_count": 7,
   "metadata": {
    "collapsed": false
   },
   "outputs": [],
   "source": [
    "from duplicate_audio.fingerprinting import fingerprint, fingerprint_channel"
   ]
  },
  {
   "cell_type": "code",
   "execution_count": 8,
   "metadata": {
    "collapsed": false
   },
   "outputs": [],
   "source": [
    "f = fingerprint(wav_dict[\"data\"], wav_dict[\"sampling_frequency\"], 0)\n"
   ]
  },
  {
   "cell_type": "code",
   "execution_count": 9,
   "metadata": {
    "collapsed": false
   },
   "outputs": [
    {
     "data": {
      "text/plain": [
       "147377"
      ]
     },
     "execution_count": 9,
     "metadata": {},
     "output_type": "execute_result"
    }
   ],
   "source": [
    "len(f.keys())"
   ]
  },
  {
   "cell_type": "code",
   "execution_count": null,
   "metadata": {
    "collapsed": true
   },
   "outputs": [],
   "source": [
    "TGT_ZONE = {\n",
    "    \"height_minus\": 25,\n",
    "    \"height_plus\": 25,\n",
    "    \"width\": 50,\n",
    "    \"displacement\": 50\n",
    "}\n",
    "\n",
    "PEAK_MIN_DIST = 2\n",
    "\n",
    "import numpy as np\n",
    "from scipy.signal import spectrogram\n",
    "from skimage.feature import peak_local_max\n",
    "\n",
    "def fingerprint_channel(dc, fs):\n",
    "    [f_spec, t_spec, spec] = spectrogram(dc, fs=fs, scaling='spectrum')\n",
    "    t_diff = t_spec[1] - t_spec[0]\n",
    "\n",
    "    lmx_2d = peak_local_max(spec, min_distance=PEAK_MIN_DIST,\n",
    "                             exclude_border=False, threshold_rel=0, indices=False)\n",
    "\n",
    "#     lmx_2d = np.zeros(spec.shape)\n",
    "#     lmx_2d[lmx_loc[:, 0], lmx_loc[:, 1]] = 1\n",
    "    lmx_loc = np.transpose(np.nonzero(lmx_2d))\n",
    "\n",
    "    # pad the lmx_2d for later target zoning\n",
    "    # use the max TGT_ZONE properties\n",
    "    padding = max(TGT_ZONE.values()) + (TGT_ZONE[\"displacement\"])\n",
    "    lmx_2d = np.pad(lmx_2d, padding,\n",
    "                    mode='constant', constant_values=0)\n",
    "\n",
    "    tgt_Y, tgt_X = np.ogrid[-TGT_ZONE[\"height_minus\"]:TGT_ZONE[\"height_plus\"],\n",
    "                            TGT_ZONE[\"displacement\"]:\n",
    "                            TGT_ZONE[\"displacement\"] + TGT_ZONE[\"width\"]]\n",
    "\n",
    "    fingerprints = dict(list())\n",
    "\n",
    "    for (y, x) in lmx_loc:\n",
    "        zone_Y = tgt_Y + (y + padding - 1)\n",
    "        zone_X = tgt_X + (x + padding - 1)\n",
    "        zone = lmx_2d[zone_Y, zone_X]\n",
    "\n",
    "        nonzero_loc = np.transpose(np.nonzero(zone))\n",
    "        nonzero_loc[:, 0] += (y - TGT_ZONE[\"height_minus\"] - 1)  # f2\n",
    "        nonzero_loc[:, 1] += TGT_ZONE[\"displacement\"]  # t2-t1\n",
    "\n",
    "        for i, (f2, t21) in enumerate(nonzero_loc):\n",
    "            fingerprint = (f_spec[y], f_spec[f2], t21 * t_diff)\n",
    "            value = t_spec[x]\n",
    "            fingerprints.setdefault(fingerprint, []).append(value)\n",
    "\n",
    "    return fingerprints\n"
   ]
  },
  {
   "cell_type": "code",
   "execution_count": null,
   "metadata": {
    "collapsed": false
   },
   "outputs": [],
   "source": [
    "dc = wav_dict[\"data\"][:, 0]\n",
    "fs = wav_dict[\"sampling_frequency\"]"
   ]
  },
  {
   "cell_type": "code",
   "execution_count": null,
   "metadata": {
    "collapsed": true
   },
   "outputs": [],
   "source": [
    "import cProfile"
   ]
  },
  {
   "cell_type": "code",
   "execution_count": null,
   "metadata": {
    "collapsed": false
   },
   "outputs": [],
   "source": [
    "cProfile.run('fingerprint_channel(dc, fs)', sort='ncalls')"
   ]
  },
  {
   "cell_type": "code",
   "execution_count": null,
   "metadata": {
    "collapsed": false
   },
   "outputs": [],
   "source": [
    "cProfile.run('fingerprint_channel(dc, fs)', sort='ncalls')"
   ]
  },
  {
   "cell_type": "code",
   "execution_count": null,
   "metadata": {
    "collapsed": false
   },
   "outputs": [],
   "source": [
    "cProfile.run('fingerprint_channel(dc, fs)', sort='ncalls')"
   ]
  },
  {
   "cell_type": "code",
   "execution_count": null,
   "metadata": {
    "collapsed": false
   },
   "outputs": [],
   "source": [
    "cProfile.run('fingerprint(wav_dict[\"data\"], wav_dict[\"sampling_frequency\"], 0)', sort='ncalls')"
   ]
  },
  {
   "cell_type": "code",
   "execution_count": null,
   "metadata": {
    "collapsed": false
   },
   "outputs": [],
   "source": [
    "cProfile.run('fingerprint(wav_dict[\"data\"], wav_dict[\"sampling_frequency\"], 0)', sort='ncalls')"
   ]
  },
  {
   "cell_type": "markdown",
   "metadata": {},
   "source": [
    "***"
   ]
  },
  {
   "cell_type": "code",
   "execution_count": 10,
   "metadata": {
    "collapsed": false
   },
   "outputs": [
    {
     "name": "stdout",
     "output_type": "stream",
     "text": [
      "26460 4410\n"
     ]
    },
    {
     "data": {
      "text/plain": [
       "0.5000226757369615"
      ]
     },
     "execution_count": 10,
     "metadata": {},
     "output_type": "execute_result"
    }
   ],
   "source": [
    "t21 = 0.5  # seconds\n",
    "t1 = 0.1\n",
    "t2 = t1 + t21\n",
    "\n",
    "query_fs = wav_dict[\"sampling_frequency\"]\n",
    "t1_, t2_ = round(t1*query_fs), round(t2*query_fs)\n",
    "print(t2_, t1_)\n",
    "query_data = wav_dict[\"data\"][t1_:t2_+1, 0]\n",
    "# query_data = query_data + np.random.normal(0, 1,\n",
    "#                               query_data.size)\n",
    "query_data.shape[0]/query_fs"
   ]
  },
  {
   "cell_type": "code",
   "execution_count": 11,
   "metadata": {
    "collapsed": true
   },
   "outputs": [],
   "source": [
    "from duplicate_audio.searching import search_1channel_in_dictdb"
   ]
  },
  {
   "cell_type": "code",
   "execution_count": null,
   "metadata": {
    "collapsed": false
   },
   "outputs": [],
   "source": [
    "res = search_1channel_in_dictdb(query_data, query_fs, f)\n",
    "res"
   ]
  },
  {
   "cell_type": "code",
   "execution_count": 12,
   "metadata": {
    "collapsed": false
   },
   "outputs": [
    {
     "name": "stdout",
     "output_type": "stream",
     "text": [
      "4972\n"
     ]
    }
   ],
   "source": [
    "q = fingerprint_channel(query_data, query_fs)\n",
    "print(len(q.keys()))"
   ]
  },
  {
   "cell_type": "code",
   "execution_count": 13,
   "metadata": {
    "collapsed": false
   },
   "outputs": [
    {
     "name": "stdout",
     "output_type": "stream",
     "text": [
      "8280\n"
     ]
    }
   ],
   "source": [
    "matches = []\n",
    "for k in q.keys():\n",
    "    if k in f.keys():\n",
    "        for s in f[k]:\n",
    "            for c in f[k][s]:\n",
    "                for tc in f[k][s][c]:\n",
    "                    for tq in q[k]:\n",
    "                        matches.append(tc - tq)\n",
    "\n",
    "print(len(matches))"
   ]
  },
  {
   "cell_type": "code",
   "execution_count": 14,
   "metadata": {
    "collapsed": false
   },
   "outputs": [
    {
     "name": "stdout",
     "output_type": "stream",
     "text": [
      "0.0974603174603\n"
     ]
    },
    {
     "data": {
      "image/png": "[encoded data removed]",
      "text/plain": [
       "<matplotlib.figure.Figure at 0x11277ba20>"
      ]
     },
     "metadata": {},
     "output_type": "display_data"
    }
   ],
   "source": [
    "m = np.asarray(matches)\n",
    "h = np.histogram(m, bins=np.arange(m.min(), m.max(), 0.01))\n",
    "print(h[1][np.argmax(h[0])])\n",
    "hh = plt.hist(m, bins=np.arange(m.min(), m.max(), 0.01))"
   ]
  },
  {
   "cell_type": "code",
   "execution_count": null,
   "metadata": {
    "collapsed": false
   },
   "outputs": [],
   "source": [
    "x = [(1, 2, 3), (2, 3, 9999), (3, 0, 0)]\n",
    "max(x)"
   ]
  },
  {
   "cell_type": "code",
   "execution_count": null,
   "metadata": {
    "collapsed": true
   },
   "outputs": [],
   "source": []
  }
 ],
 "metadata": {
  "kernelspec": {
   "display_name": "Python 3",
   "language": "python",
   "name": "python3"
  },
  "language_info": {
   "codemirror_mode": {
    "name": "ipython",
    "version": 3
   },
   "file_extension": ".py",
   "mimetype": "text/x-python",
   "name": "python",
   "nbconvert_exporter": "python",
   "pygments_lexer": "ipython3",
   "version": "3.4.3"
  }
 },
 "nbformat": 4,
 "nbformat_minor": 0
}
